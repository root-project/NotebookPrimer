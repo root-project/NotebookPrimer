{
 "cells": [
  {
   "cell_type": "markdown",
   "metadata": {},
   "source": [
    "# 9 Concluding Remarks\n",
    "This is the end of our guided tour for beginners through ROOT. There is still a lot to be said, though by now you are experienced enough to use the ROOT documentation, most importantly the [ROOT home page](https://root.cern.ch) and the [ROOT reference guide](https://root.cern.ch/guides/reference-guide) with the documentation of all ROOT classes, or the [ROOT users guide](https://root.cern.ch/guides/users-guide).\n",
    "\n",
    "A very useful way for you to continue exploring ROOT is to study the examples in the sub-directory ```tutorials/``` of any ROOT installation.\n",
    "\n",
    "There are some powerful features of ROOT which were not treated in this document, e.g. packages named RooFit and RooStats providing an advanced framework for model building, fitting and statistical analysis. The ROOT namespace ```TMVA``` offers multi-variate analysis tools including an artificial neural network and many other advanced tools for classification problems. The remarkable ability of ROOT to handle large data volumes was already mentioned in this guide, implemented through the class ```TTree```. But there is still much more for you to explore!\n",
    "\n",
    "**End of this guide … but hopefully not of your interaction with ROOT !**"
  },
  {
   "cell_type": "markdown",
   "metadata": {
    "collapsed": false,
    "remove": true,
    "truseted": true
   },
   "source": [
    "<hr>\n",
    "\n",
    "<p id=\"nav-felt\" style=\"position:relative; width:50%; float:left;\"><a href=\"8-ROOT-in-Python.ipynb\">&lt;&lt; Previous Chapter 8 ROOT in Python </a></p>"
   ]
  }
 ],
 "metadata": {
  "kernelspec": {
   "display_name": "Python 2",
   "language": "python",
   "name": "python2"
  },
  "language_info": {
   "codemirror_mode": {
    "name": "ipython",
    "version": 2
   },
   "file_extension": ".py",
   "mimetype": "text/x-python",
   "name": "python",
   "nbconvert_exporter": "python",
   "pygments_lexer": "ipython2",
   "version": "2.7.11"
  }
 },
 "nbformat": 4,
 "nbformat_minor": 0
}
