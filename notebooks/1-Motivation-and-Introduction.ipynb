{
 "cells": [
  {
   "cell_type": "markdown",
   "metadata": {},
   "source": [
    "# ROOT Primer\n",
    "## Abstract\n",
    "[ROOT](http://root.cern) is a software framework for data analysis and I/O: a powerful tool to cope with the demanding tasks, typically state of the art scientific data analysis. Among its prominent features are an advanced graphical user interface, ideal for interactive analysis, an interpreter for the C++ programming language, for rapid and efficient prototyping and a persistency mechanism for C++ objects used also to write petabytes of data recorded by the Large Hadron Collider experiments every year. This introductory guide illustrates the main features of ROOT which are relevant for the typical problems of data analysis: input and plotting of data from measurements and fitting of analytical functions.\n",
    "\n",
    "This ROOT Primer consists of several jupyter notebooks that can be found in the [SWAN](https://github.com/root-project/NotebookPrimer).\n",
    "\n",
    "_Original Authors: D. Piparo, G. Quast, M. Zeise_\n",
    "\n",
    "## 1 Motivation and Introduction\n",
    "\n",
    "**Welcome to data analysis!**\n",
    "\n",
    "Comparison of measurements to theoretical models is one of the standard tasks in experimental physics. In the most simple case, a “model” is just a function providing predictions of measured data. Very often, the model depends on parameters. Such a model may simply state “the current *I* is proportional to the voltage *U*”, and the task of the experimentalist consists of determining the resistance, *R*, from a set of measurements.\n",
    "\n",
    "As a first step, a visualisation of the data is needed. Next, some manipulations typically have to be applied, e.g. corrections or parameter transformations. Quite often, these manipulations are complex ones, and a powerful library of mathematical functions and procedures should be provided - think for example of an integral or peak-search or a Fourier transformation applied to an input spectrum to obtain the actual measurement described by the model.\n",
    "\n",
    "One specialty of experimental physics are the inevitable uncertainties affecting each measurement, and visualisation tools have to include these. In subsequent analysis, the statistical nature of the errors must be handled properly.\n",
    "\n",
    "As the last step, measurements are compared to models, and free model parameters need to be determined in this process. See Figure 1.1 for an example of a function (model) fit to data points. Several standard methods are available, and a data analysis tool should provide easy access to more than one of them. Means to quantify the level of agreement between measurements and model must also be available.\n"
   ]
  },
  {
   "cell_type": "markdown",
   "metadata": {},
   "source": [
    "<img src=\"images/examplefit.png\" width=\"600px\" height=\"300px\" alt=\"A ROOT plot example\">\n",
    "<em>Figure 1.1: Measured data points with error bars and fitted quadratic function.</em>"
   ]
  },
  {
   "cell_type": "markdown",
   "metadata": {},
   "source": [
    "Quite often, the data volume to be analyzed is large - think of fine-granular measurements accumulated with the aid of computers. A usable tool therefore must contain easy-to-use and efficient methods for storing and handling data.\n",
    "\n",
    "In Quantum mechanics, models typically only predict the probability density function (“pdf”) of measurements depending on a number of parameters, and the aim of the experimental analysis is to extract the parameters from the observed distribution of frequencies at which certain values of the measurement are observed. Measurements of this kind require means to generate and visualize frequency distributions, so-called histograms, and stringent statistical treatment to extract the model parameters from purely statistical distributions.\n",
    "\n",
    "Simulation of expected data is another important aspect in data analysis. By repeated generation of “pseudo-data”, which are analysed in the same manner as intended for the real data, analysis procedures can be validated or compared. In many cases, the distribution of the measurement errors is not precisely known, and simulation offers the possibility to test the effects of different assumptions.\n",
    "\n",
    "A powerful software framework addressing all of the above requirements is ROOT, an open source project coordinated by the European Organisation for Nuclear Research, CERN in Geneva.\n",
    "\n",
    "ROOT is very flexible and provides both a programming interface to use in own applications and a graphical user interface for interactive data analysis. The purpose of this document is to serve as a beginners guide and provides extendible examples for your own use cases, based on typical problems addressed in student labs. This guide will hopefully lay the ground for more complex applications in your future scientific work building on a modern, state-of the art tool for data analysis.\n",
    "\n",
    "This guide in form of a tutorial is intended to introduce you quickly to the ROOT package. This goal will be accomplished using concrete examples, according to the “learning by doing“ principle. Also because of this reason, this guide cannot cover all the complexity of the ROOT package. Nevertheless, once you feel confident with the concepts presented in the following chapters, you will be able to navigate through the [Reference Guide](https://root.cern/doc/master/index.html) to find all the details you might be interested in. You can even look at the code itself, since ROOT is a free, open-source product. Use these documents in parallel to this tutorial!\n",
    "\n",
    "The ROOT Data Analysis Framework itself is written in and heavily relies on the C++ programming language: some knowledge about C++ is required. Just take advantage from the immense available literature about C++ if you do not have any idea of what this language is about.\n",
    "\n",
    "ROOT is available for many platforms (Linux, Mac OS X, Windows...), but in this guide we will implicitly assume that you are using Linux. The first thing you need to do with ROOT is install it, don't you ? Obtaining the latest ROOT version is straightforward. Just choose your preferred installation method from [the install page](https://root.cern/install/). You will find precompiled versions for the different architectures, or the ROOT source code to compile yourself. Just pick up the flavour you need and follow the installation instructions.\n",
    "\n",
    "**Let’s dive into ROOT!**\n",
    "\n",
    "> **Note**\n",
    ">\n",
    "> The macros and data files presented is this document can be found\n",
    "> in the [ROOT GitHub repository](https://github.com/root-project/root/tree/master/documentation/primer/macros)"
   ]
  },
  {
   "cell_type": "markdown",
   "metadata": {
    "remove": true,
    "truseted": true
   },
   "source": [
    "\n",
    "<hr>\n",
    "<p id=\"nav-felt\" style=\"width:100%; text-align:right;\"><a href=\"2-ROOT-Basics.ipynb\">Next Chapter 2 ROOT Basics &gt;&gt;</a></p>"
   ]
  }
 ],
 "metadata": {
  "kernelspec": {
   "display_name": "Python 2",
   "language": "python",
   "name": "python2"
  },
  "language_info": {
   "codemirror_mode": {
    "name": "ipython",
    "version": 2
   },
   "file_extension": ".py",
   "mimetype": "text/x-python",
   "name": "python",
   "nbconvert_exporter": "python",
   "pygments_lexer": "ipython2",
   "version": "2.7.11"
  }
 },
 "nbformat": 4,
 "nbformat_minor": 0
}
